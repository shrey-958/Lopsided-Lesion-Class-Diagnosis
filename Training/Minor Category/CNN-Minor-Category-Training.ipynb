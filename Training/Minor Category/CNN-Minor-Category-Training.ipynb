{
 "cells": [
  {
   "cell_type": "markdown",
   "metadata": {
    "id": "Hk8M3GFBmkG4"
   },
   "source": [
    "Import Everything\n"
   ]
  },
  {
   "cell_type": "code",
   "execution_count": null,
   "metadata": {
    "id": "nhtmyEAamPzX"
   },
   "outputs": [],
   "source": [
    "import tensorflow as tf\n",
    "from tensorflow import keras\n",
    "import numpy as np\n",
    "import cv2\n",
    "from cv2 import imread\n",
    "import pandas as pd\n",
    "import os\n",
    "import matplotlib.pyplot as plt\n",
    "#from tensorflow.keras.utils.np_utils import to_categorical\n",
    "from sklearn.model_selection import train_test_split\n",
    "from tensorflow.keras.models import Sequential, load_model\n",
    "from tensorflow.keras.callbacks import EarlyStopping,ModelCheckpoint\n",
    "from tensorflow.keras.layers import Dropout, Activation\n",
    "from tensorflow.keras.layers import Conv2D,BatchNormalization,MaxPool2D,Flatten,Dense\n",
    "from sklearn.utils.class_weight import compute_class_weight\n",
    "from tensorflow.keras.models import Model\n",
    "from tensorflow.keras.layers import Conv2D, MaxPooling2D, Dense, Input, Activation, Dropout, GlobalAveragePooling2D, \\\n",
    "    BatchNormalization, concatenate, AveragePooling2D\n",
    "from tensorflow.keras.optimizers import Adam\n",
    "import time\n",
    "from tensorflow.keras.callbacks import ModelCheckpoint, ReduceLROnPlateau\n",
    "from tensorflow.keras.preprocessing.image import ImageDataGenerator\n",
    "from tensorflow.keras.applications.mobilenet import preprocess_input\n",
    "from tensorflow.keras.applications import imagenet_utils\n",
    "from imblearn.over_sampling import RandomOverSampler"
   ]
  },
  {
   "cell_type": "markdown",
   "metadata": {
    "id": "FkI_GrM749Yb"
   },
   "source": [
    "Import Data"
   ]
  },
  {
   "cell_type": "code",
   "execution_count": null,
   "metadata": {
    "colab": {
     "base_uri": "https://localhost:8080/"
    },
    "id": "9c1oK2G_4_JY",
    "outputId": "80c80155-330e-408f-f969-68e3282a5deb"
   },
   "outputs": [
    {
     "name": "stdout",
     "output_type": "stream",
     "text": [
      "shape of X (5942, 100, 100, 3)\n",
      "shape of Y (5942,)\n"
     ]
    }
   ],
   "source": [
    "X = np.load('/content/drive/MyDrive/Small Data SL/X_small_new.npy')\n",
    "Y = np.load('/content/drive/MyDrive/Small Data SL/Y_small_new.npy')\n",
    "print('shape of X',X.shape)\n",
    "print('shape of Y',Y.shape)"
   ]
  },
  {
   "cell_type": "code",
   "execution_count": null,
   "metadata": {
    "colab": {
     "base_uri": "https://localhost:8080/"
    },
    "id": "zB0biNIDu8uS",
    "outputId": "694eb517-9c7e-46dd-d58f-c0c9db38c106"
   },
   "outputs": [
    {
     "name": "stdout",
     "output_type": "stream",
     "text": [
      "(5942, 30000)\n"
     ]
    }
   ],
   "source": [
    "X_new = X.reshape(X.shape[0],X.shape[1]*X.shape[2]*X.shape[3])\n",
    "print(X_new.shape)"
   ]
  },
  {
   "cell_type": "code",
   "execution_count": null,
   "metadata": {
    "colab": {
     "base_uri": "https://localhost:8080/"
    },
    "id": "cvJpNYXx-lLo",
    "outputId": "1998d168-acfc-4c05-f385-4dda82689163"
   },
   "outputs": [
    {
     "name": "stdout",
     "output_type": "stream",
     "text": [
      "[5 5 5 ... 7 6 6]\n",
      "[0 0 0 ... 7 6 6]\n",
      "[0 0 0 ... 7 1 1]\n",
      "[0 0 0 ... 2 1 1]\n",
      "[0 0 0 ... 2 1 1]\n"
     ]
    }
   ],
   "source": [
    "print(Y)\n",
    "Y_new = np.where(Y==5,0,Y)\n",
    "print(Y_new)\n",
    "Y_new = np.where(Y_new==6,1,Y_new)\n",
    "print(Y_new)\n",
    "Y_new = np.where(Y_new==7,2,Y_new)\n",
    "print(Y_new)\n",
    "Y_new = np.where(Y_new==8,3,Y_new)\n",
    "print(Y_new)"
   ]
  },
  {
   "cell_type": "code",
   "execution_count": null,
   "metadata": {
    "colab": {
     "base_uri": "https://localhost:8080/"
    },
    "id": "s7rFIXtlwFsy",
    "outputId": "a6429fcc-2c1d-4fd1-8120-aa3773bea46d"
   },
   "outputs": [
    {
     "name": "stderr",
     "output_type": "stream",
     "text": [
      "/usr/local/lib/python3.7/dist-packages/sklearn/utils/deprecation.py:87: FutureWarning: Function safe_indexing is deprecated; safe_indexing is deprecated in version 0.22 and will be removed in version 0.24.\n",
      "  warnings.warn(msg, category=FutureWarning)\n"
     ]
    }
   ],
   "source": [
    "over_sample = RandomOverSampler()\n",
    "X_new,Y_new = over_sample.fit_resample(X_new,Y_new)\n",
    "X_again = np.array(X_new).reshape(-1,100,100,3)"
   ]
  },
  {
   "cell_type": "markdown",
   "metadata": {
    "id": "jSZuEm4C65h-"
   },
   "source": [
    "Model"
   ]
  },
  {
   "cell_type": "code",
   "execution_count": null,
   "metadata": {
    "colab": {
     "base_uri": "https://localhost:8080/"
    },
    "id": "zbenKgnZ7Hb-",
    "outputId": "ac12b4cf-ecd5-45f9-d0dd-69ea397e7e7f"
   },
   "outputs": [
    {
     "name": "stdout",
     "output_type": "stream",
     "text": [
      "Model: \"sequential_3\"\n",
      "_________________________________________________________________\n",
      "Layer (type)                 Output Shape              Param #   \n",
      "=================================================================\n",
      "conv2d_12 (Conv2D)           (None, 100, 100, 16)      448       \n",
      "_________________________________________________________________\n",
      "conv2d_13 (Conv2D)           (None, 98, 98, 32)        4640      \n",
      "_________________________________________________________________\n",
      "max_pooling2d_6 (MaxPooling2 (None, 49, 49, 32)        0         \n",
      "_________________________________________________________________\n",
      "conv2d_14 (Conv2D)           (None, 49, 49, 32)        9248      \n",
      "_________________________________________________________________\n",
      "conv2d_15 (Conv2D)           (None, 47, 47, 64)        18496     \n",
      "_________________________________________________________________\n",
      "max_pooling2d_7 (MaxPooling2 (None, 24, 24, 64)        0         \n",
      "_________________________________________________________________\n",
      "flatten_3 (Flatten)          (None, 36864)             0         \n",
      "_________________________________________________________________\n",
      "dense_9 (Dense)              (None, 64)                2359360   \n",
      "_________________________________________________________________\n",
      "dense_10 (Dense)             (None, 32)                2080      \n",
      "_________________________________________________________________\n",
      "dense_11 (Dense)             (None, 4)                 132       \n",
      "=================================================================\n",
      "Total params: 2,394,404\n",
      "Trainable params: 2,394,404\n",
      "Non-trainable params: 0\n",
      "_________________________________________________________________\n",
      "Model: \"sequential_3\"\n",
      "_________________________________________________________________\n",
      "Layer (type)                 Output Shape              Param #   \n",
      "=================================================================\n",
      "conv2d_12 (Conv2D)           (None, 100, 100, 16)      448       \n",
      "_________________________________________________________________\n",
      "conv2d_13 (Conv2D)           (None, 98, 98, 32)        4640      \n",
      "_________________________________________________________________\n",
      "max_pooling2d_6 (MaxPooling2 (None, 49, 49, 32)        0         \n",
      "_________________________________________________________________\n",
      "conv2d_14 (Conv2D)           (None, 49, 49, 32)        9248      \n",
      "_________________________________________________________________\n",
      "conv2d_15 (Conv2D)           (None, 47, 47, 64)        18496     \n",
      "_________________________________________________________________\n",
      "max_pooling2d_7 (MaxPooling2 (None, 24, 24, 64)        0         \n",
      "_________________________________________________________________\n",
      "flatten_3 (Flatten)          (None, 36864)             0         \n",
      "_________________________________________________________________\n",
      "dense_9 (Dense)              (None, 64)                2359360   \n",
      "_________________________________________________________________\n",
      "dense_10 (Dense)             (None, 32)                2080      \n",
      "_________________________________________________________________\n",
      "dense_11 (Dense)             (None, 4)                 132       \n",
      "=================================================================\n",
      "Total params: 2,394,404\n",
      "Trainable params: 2,394,404\n",
      "Non-trainable params: 0\n",
      "_________________________________________________________________\n"
     ]
    }
   ],
   "source": [
    "model = Sequential()\n",
    "model.add(Conv2D(16, kernel_size = (3,3), input_shape = (100, 100, 3), activation = 'relu', padding = 'same'))\n",
    "model.add(Conv2D(32, kernel_size = (3,3), activation = 'relu'))\n",
    "model.add(MaxPool2D(pool_size = (2,2)))\n",
    "model.add(Conv2D(32, kernel_size = (3,3), activation = 'relu', padding = 'same'))\n",
    "model.add(Conv2D(64, kernel_size = (3,3), activation = 'relu'))\n",
    "model.add(MaxPool2D(pool_size = (2,2), padding = 'same'))\n",
    "model.add(Flatten())\n",
    "model.add(Dense(64, activation='relu'))\n",
    "model.add(Dense(32, activation='relu'))\n",
    "model.add(Dense(4, activation='softmax'))\n",
    "model.summary()\n",
    "model.summary()"
   ]
  },
  {
   "cell_type": "markdown",
   "metadata": {
    "id": "Fy3vektj7ebR"
   },
   "source": [
    "Training the model without normalization(file name = best_model_wn.h5)"
   ]
  },
  {
   "cell_type": "code",
   "execution_count": null,
   "metadata": {
    "id": "seqDTu2UwpY2"
   },
   "outputs": [],
   "source": [
    "X_again = (X_again-np.mean(X_again))/np.std(X_again) ## Here std(X) means RMS(root mean square), This step will decrease the volume of numbers and hence reduce the time taken\n",
    "X_train, X_test, Y_train, Y_test = train_test_split( X_again , Y_new , test_size= 0.15, random_state=69 ) ### This step will shuffle and break the data into train and test"
   ]
  },
  {
   "cell_type": "code",
   "execution_count": null,
   "metadata": {
    "colab": {
     "base_uri": "https://localhost:8080/"
    },
    "id": "aMc-scC4w1jf",
    "outputId": "e38b7b27-ea08-48fa-9259-f66a4b551330"
   },
   "outputs": [
    {
     "name": "stdout",
     "output_type": "stream",
     "text": [
      "Epoch 1/20\n",
      "37/37 [==============================] - 137s 4s/step - loss: 1.2672 - accuracy: 0.3940 - val_loss: 1.0859 - val_accuracy: 0.5267\n",
      "\n",
      "Epoch 00001: saving model to best_model_new.h5\n",
      "Epoch 2/20\n",
      "37/37 [==============================] - 134s 4s/step - loss: 1.0233 - accuracy: 0.5344 - val_loss: 0.9377 - val_accuracy: 0.6014\n",
      "\n",
      "Epoch 00002: saving model to best_model_new.h5\n",
      "Epoch 3/20\n",
      "37/37 [==============================] - 134s 4s/step - loss: 0.8654 - accuracy: 0.6219 - val_loss: 0.8058 - val_accuracy: 0.6658\n",
      "\n",
      "Epoch 00003: saving model to best_model_new.h5\n",
      "Epoch 4/20\n",
      "37/37 [==============================] - 134s 4s/step - loss: 0.7048 - accuracy: 0.7135 - val_loss: 0.6858 - val_accuracy: 0.7226\n",
      "\n",
      "Epoch 00004: saving model to best_model_new.h5\n",
      "Epoch 5/20\n",
      "37/37 [==============================] - 134s 4s/step - loss: 0.5651 - accuracy: 0.7769 - val_loss: 0.6389 - val_accuracy: 0.7379\n",
      "\n",
      "Epoch 00005: saving model to best_model_new.h5\n",
      "Epoch 6/20\n",
      "37/37 [==============================] - 134s 4s/step - loss: 0.4478 - accuracy: 0.8268 - val_loss: 0.5157 - val_accuracy: 0.7905\n",
      "\n",
      "Epoch 00006: saving model to best_model_new.h5\n",
      "Epoch 7/20\n",
      "37/37 [==============================] - 134s 4s/step - loss: 0.2991 - accuracy: 0.8933 - val_loss: 0.4382 - val_accuracy: 0.8321\n",
      "\n",
      "Epoch 00007: saving model to best_model_new.h5\n",
      "Epoch 8/20\n",
      "37/37 [==============================] - 134s 4s/step - loss: 0.1951 - accuracy: 0.9324 - val_loss: 0.4450 - val_accuracy: 0.8321\n",
      "\n",
      "Epoch 00008: saving model to best_model_new.h5\n",
      "Epoch 9/20\n",
      "37/37 [==============================] - 134s 4s/step - loss: 0.1292 - accuracy: 0.9587 - val_loss: 0.3958 - val_accuracy: 0.8567\n",
      "\n",
      "Epoch 00009: saving model to best_model_new.h5\n",
      "Epoch 10/20\n",
      "37/37 [==============================] - 134s 4s/step - loss: 0.0941 - accuracy: 0.9693 - val_loss: 0.3332 - val_accuracy: 0.8948\n",
      "\n",
      "Epoch 00010: saving model to best_model_new.h5\n",
      "Epoch 11/20\n",
      "37/37 [==============================] - 134s 4s/step - loss: 0.1671 - accuracy: 0.9495 - val_loss: 0.3716 - val_accuracy: 0.8651\n",
      "\n",
      "Epoch 00011: saving model to best_model_new.h5\n",
      "Epoch 12/20\n",
      "37/37 [==============================] - 133s 4s/step - loss: 0.0784 - accuracy: 0.9767 - val_loss: 0.3411 - val_accuracy: 0.8948\n",
      "\n",
      "Epoch 00012: saving model to best_model_new.h5\n",
      "Epoch 13/20\n",
      "37/37 [==============================] - 134s 4s/step - loss: 0.0327 - accuracy: 0.9922 - val_loss: 0.3543 - val_accuracy: 0.9042\n",
      "\n",
      "Epoch 00013: saving model to best_model_new.h5\n",
      "Epoch 14/20\n",
      "37/37 [==============================] - 134s 4s/step - loss: 0.0158 - accuracy: 0.9960 - val_loss: 0.2883 - val_accuracy: 0.9211\n",
      "\n",
      "Epoch 00014: saving model to best_model_new.h5\n",
      "Epoch 15/20\n",
      "37/37 [==============================] - 134s 4s/step - loss: 0.0069 - accuracy: 0.9994 - val_loss: 0.2742 - val_accuracy: 0.9237\n",
      "\n",
      "Epoch 00015: saving model to best_model_new.h5\n",
      "Epoch 16/20\n",
      "37/37 [==============================] - 134s 4s/step - loss: 0.0034 - accuracy: 0.9996 - val_loss: 0.3126 - val_accuracy: 0.9245\n",
      "\n",
      "Epoch 00016: saving model to best_model_new.h5\n",
      "Epoch 17/20\n",
      "37/37 [==============================] - 134s 4s/step - loss: 0.0047 - accuracy: 0.9992 - val_loss: 0.3164 - val_accuracy: 0.9211\n",
      "\n",
      "Epoch 00017: saving model to best_model_new.h5\n",
      "Epoch 18/20\n",
      "37/37 [==============================] - 134s 4s/step - loss: 0.0036 - accuracy: 0.9989 - val_loss: 0.3271 - val_accuracy: 0.9262\n",
      "\n",
      "Epoch 00018: saving model to best_model_new.h5\n",
      "Epoch 19/20\n",
      "37/37 [==============================] - 134s 4s/step - loss: 0.0012 - accuracy: 1.0000 - val_loss: 0.3210 - val_accuracy: 0.9245\n",
      "\n",
      "Epoch 00019: saving model to best_model_new.h5\n",
      "Epoch 20/20\n",
      "37/37 [==============================] - 134s 4s/step - loss: 6.9103e-04 - accuracy: 1.0000 - val_loss: 0.3240 - val_accuracy: 0.9245\n",
      "\n",
      "Epoch 00020: saving model to best_model_new.h5\n"
     ]
    }
   ],
   "source": [
    "callback = tf.keras.callbacks.ModelCheckpoint(filepath='best_model_new.h5',\n",
    "                                                  monitor='val_acc', mode='max',\n",
    "                                                 verbose=1)\n",
    "model.compile(loss = 'sparse_categorical_crossentropy',\n",
    "             optimizer = 'adam',\n",
    "              metrics = ['accuracy'])\n",
    "history = model.fit(X_train,\n",
    "                    Y_train,\n",
    "                    validation_split=0.2,\n",
    "                    batch_size = 128,\n",
    "                    epochs = 20,\n",
    "                    callbacks=[callback])"
   ]
  }
 ],
 "metadata": {
  "colab": {
   "collapsed_sections": [],
   "name": "CNN_for_small_new.ipynb",
   "provenance": [],
   "toc_visible": true
  },
  "kernelspec": {
   "display_name": "Python 3",
   "language": "python",
   "name": "python3"
  },
  "language_info": {
   "codemirror_mode": {
    "name": "ipython",
    "version": 3
   },
   "file_extension": ".py",
   "mimetype": "text/x-python",
   "name": "python",
   "nbconvert_exporter": "python",
   "pygments_lexer": "ipython3",
   "version": "3.8.3"
  }
 },
 "nbformat": 4,
 "nbformat_minor": 1
}
